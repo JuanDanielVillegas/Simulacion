{
  "cells": [
    {
      "cell_type": "code",
      "execution_count": 1,
      "metadata": {},
      "outputs": [],
      "source": [
        "import numpy as np\n",
        "import matplotlib.pyplot as mpl"
      ]
    },
    {
      "cell_type": "code",
      "execution_count": 3,
      "metadata": {},
      "outputs": [],
      "source": [
        "## Esto simula un escalon\n",
        "def escalon(ts, a, k):\n",
        "    x=[]\n",
        "    for t in ts:\n",
        "        if t<k:\n",
        "            x.append (0)\n",
        "        else:\n",
        "            x.append(a)\n",
        "    return x\n",
        "\n",
        "## Esto simula una senal senoidal\n",
        "def seno(ts, a, f, theta):\n",
        "    x=[]\n",
        "    for t in ts:\n",
        "        x.append(a*np.sin ((2*np.pi*f*t)+theta))\n",
        "    return x\n",
        "\n",
        "## Esto implementa una suma de senales\n",
        "def suma(s1 ,s2):\n",
        "    x=[]\n",
        "    for x1 ,y1 in zip(s1 ,s2):\n",
        "        x.append(x1+y1)\n",
        "    return x\n",
        "\n",
        "## Esta es la funcion principal del programa\n",
        "def main(ini ,fin ,delta):\n",
        "    ts=np.arange(ini ,fin ,delta)\n",
        "    u1=escalon(ts ,1.5 ,0)\n",
        "    s1=seno(ts ,6/np.pi ,2,0)\n",
        "    s2=seno(ts ,2/np.pi ,6,0)\n",
        "    s3=seno(ts ,6/(5* np.pi) ,10,0)\n",
        "    tmp1=suma(u1 ,s1)\n",
        "    tmp2=suma(tmp1 ,s2)\n",
        "    x=suma(tmp2 ,s3)\n",
        "    mpl.plot(ts ,x)\n",
        "    mpl.plot(ts ,u1)\n",
        "    mpl.plot(ts ,s1)\n",
        "    mpl.plot(ts ,s2)\n",
        "    mpl.plot(ts ,s3)\n",
        "    mpl.grid()\n",
        "    mpl.title('APROXIMANDO X(T) CHIDA ')\n",
        "    mpl.xlabel('Tiempo ')\n",
        "    mpl.ylabel('Respuesta ')\n",
        "    mpl.legend ((r'$x(t)$',r'$1.5\\mu(t)$',r'$\\frac {6}{\\ pi}sen (4\\pi t) $',r'$\\frac {2}{\\ pi}sen (12\\pi t)$',r'$\\frac {6}{5\\ pi}sen (20\\pi t)$'))\n",
        "    mpl.savefig('ejem8.png',format='png',dpi =300)\n",
        "    mpl.show()"
      ]
    },
    {
      "cell_type": "code",
      "execution_count": 4,
      "metadata": {},
      "outputs": [],
      "source": [
        "## Este es el punto de entrada al programa\n",
        "if __name__ =='__main__ ':\n",
        "    main (0 ,0.5 ,0.01)\n"
      ]
    }
  ],
  "metadata": {
    "colab": {
      "provenance": []
    },
    "kernelspec": {
      "display_name": "Python 3",
      "name": "python3"
    },
    "language_info": {
      "codemirror_mode": {
        "name": "ipython",
        "version": 3
      },
      "file_extension": ".py",
      "mimetype": "text/x-python",
      "name": "python",
      "nbconvert_exporter": "python",
      "pygments_lexer": "ipython3",
      "version": "3.10.0"
    }
  },
  "nbformat": 4,
  "nbformat_minor": 0
}
