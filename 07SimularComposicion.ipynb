{
  "cells": [
    {
      "cell_type": "code",
      "execution_count": 1,
      "metadata": {},
      "outputs": [],
      "source": [
        "import numpy as np\n",
        "import math\n",
        "import matplotlib.pyplot as mpl"
      ]
    },
    {
      "cell_type": "code",
      "execution_count": 6,
      "metadata": {},
      "outputs": [],
      "source": [
        "## Esta es la funcion que simula un escalon\n",
        "def escalon(ts ,a,k):\n",
        "    x=[]\n",
        "    for t in ts:\n",
        "        if t<k:\n",
        "            x.append (0)\n",
        "        else:\n",
        "            x.append(a)\n",
        "    return x\n",
        "\n",
        "## Esto simula una señal senoidal\n",
        "def seno(ts ,a,f,theta):\n",
        "    x=[]\n",
        "    for t in ts:\n",
        "        x.append(a*np.sin ((2*np.pi*f*t)+theta))\n",
        "    return x\n",
        "\n",
        "## Esta funcion implementa la multiplicacion de dos listas\n",
        "def multi(s1 ,s2):\n",
        "    x=[]\n",
        "    for x1 ,x2 in zip(s1 ,s2):\n",
        "        x.append(x1*x2)\n",
        "    return x\n",
        "\n",
        "## Esta es la funcion prinicpal del programa\n",
        "def main(ini ,fin ,delta):\n",
        "    ts=np.arange(ini ,fin ,delta)\n",
        "    x1=escalon(ts ,2,3)\n",
        "    x2=seno(ts ,5,8,0)\n",
        "    x3=multi(x1 ,x2)\n",
        "    mpl.plot(ts ,x1)\n",
        "    mpl.plot(ts ,x2)\n",
        "    mpl.plot(ts ,x3)\n",
        "    mpl.grid()\n",
        "    mpl.title('COMPOSISCION DE UNA SENAL CHIDA Y OTRA NO TANTO ')\n",
        "    mpl.xlabel('Tiempo ')\n",
        "    mpl.ylabel('Respuesta ')\n",
        "    mpl.legend ((r'$x_1(t)$',r'$x_2(t)$',r'$x_3(t)$'))\n",
        "    mpl.savefig('ejem7.png',format='png',dpi =300)\n",
        "    mpl.show()\n",
        "    print(x1, x2, x3)"
      ]
    },
    {
      "cell_type": "code",
      "execution_count": 7,
      "metadata": {},
      "outputs": [],
      "source": [
        "## Este es el punto de entrada al programa\n",
        "if __name__ =='__main__ ':\n",
        "    main (-5,5,0.1)"
      ]
    }
  ],
  "metadata": {
    "colab": {
      "provenance": []
    },
    "kernelspec": {
      "display_name": "Python 3",
      "name": "python3"
    },
    "language_info": {
      "codemirror_mode": {
        "name": "ipython",
        "version": 3
      },
      "file_extension": ".py",
      "mimetype": "text/x-python",
      "name": "python",
      "nbconvert_exporter": "python",
      "pygments_lexer": "ipython3",
      "version": "3.10.0"
    }
  },
  "nbformat": 4,
  "nbformat_minor": 0
}
